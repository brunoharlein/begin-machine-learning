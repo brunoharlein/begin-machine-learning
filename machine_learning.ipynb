{
 "cells": [
  {
   "cell_type": "markdown",
   "metadata": {},
   "source": [
    "Machine learning\n",
    "\n",
    "Dans ce cours vous aurez les bases du Machine Learning (apprentissage automatique à partir de données).\n",
    "Création de modèles de prédiction et de classification en Python avec des algorithmes de Machine Learning (branche de la Data Science)"
   ]
  },
  {
   "cell_type": "raw",
   "metadata": {},
   "source": [
    "Apprendre à construire, optimiser puis déployer des modèles prédictifs avec la librairie scikit-learn"
   ]
  },
  {
   "cell_type": "raw",
   "metadata": {},
   "source": [
    "Apprentissage des mécanismes des algorithmes des K Nearest neighbors (k plus proche voisins). Régression linéaire, régression logistique et algorithme des k-mean clistering."
   ]
  },
  {
   "cell_type": "raw",
   "metadata": {},
   "source": [
    "Apprentissage à évaluer la qualité et précision de ces modèles via des métriques d'erreurs. La validation croisée et l'optimisation d'hyper paramètres."
   ]
  },
  {
   "cell_type": "raw",
   "metadata": {},
   "source": [
    "Rappel : \n",
    "    - Les fondamentaux du Machine Learning avec le langage Python\n",
    "    - L'algorithme des k plus proches voisin (k Nearest Neighbors)\n",
    "    - Création et évaluation de la qualité de modèles en tout genre.\n",
    "    - Validation croisé holdout et des k-fold.\n",
    "    - Régression linéaire.\n",
    "    - Clustering des k-mean\n",
    "    - Classification simple & multiple\n",
    "    - Réseaux de neuronnes"
   ]
  },
  {
   "cell_type": "raw",
   "metadata": {},
   "source": [
    "Installation d'Anaconda (logiquement c'est bon ;-) sinon vous ne seriez pas ici )"
   ]
  },
  {
   "cell_type": "markdown",
   "metadata": {},
   "source": [
    "![title](1.png)\n"
   ]
  },
  {
   "cell_type": "markdown",
   "metadata": {},
   "source": [
    "Lancer anaconda navigator"
   ]
  },
  {
   "cell_type": "markdown",
   "metadata": {},
   "source": [
    "Choix de l'environnement \"base\"(root)"
   ]
  },
  {
   "cell_type": "markdown",
   "metadata": {},
   "source": [
    "![title](2.png)"
   ]
  },
  {
   "cell_type": "markdown",
   "metadata": {},
   "source": [
    "Sélection : open terminal"
   ]
  },
  {
   "cell_type": "markdown",
   "metadata": {},
   "source": [
    "Le termninal s'ouvre et il faudra donc installer quelques librairies :\n",
    "- pip install scipy\n",
    "- pip install sklearn\n",
    "- pip install seaborn\n",
    "- pip install pandas\n",
    "- pip install numpy\n",
    "- pip install matplotlib"
   ]
  },
  {
   "cell_type": "markdown",
   "metadata": {},
   "source": [
    "![title](3.png)"
   ]
  },
  {
   "cell_type": "markdown",
   "metadata": {},
   "source": [
    "Ouverture de Jupyter\n",
    "- Choix du dossier (création possible)\n",
    "- Mon dossier machine_learning contiendra mes notebook et mon dossier dataset ... mes dataset\n",
    "- Clic sur \"nouveau\" en haut à droite puis Python3"
   ]
  },
  {
   "cell_type": "markdown",
   "metadata": {},
   "source": [
    "La page du notebook s'ouvre il est temps de commencer notre initiation.\n",
    "- Nous commencerons par un petit rappel.\n",
    "- Une explication sur le machine learning\n",
    "- Présentation du projet"
   ]
  },
  {
   "cell_type": "code",
   "execution_count": 2,
   "metadata": {},
   "outputs": [],
   "source": [
    "# Importation des librairies pandas et numpy\n",
    "import pandas as pd\n",
    "import numpy as np"
   ]
  },
  {
   "cell_type": "code",
   "execution_count": null,
   "metadata": {},
   "outputs": [],
   "source": []
  }
 ],
 "metadata": {
  "kernelspec": {
   "display_name": "Python 3",
   "language": "python",
   "name": "python3"
  },
  "language_info": {
   "codemirror_mode": {
    "name": "ipython",
    "version": 3
   },
   "file_extension": ".py",
   "mimetype": "text/x-python",
   "name": "python",
   "nbconvert_exporter": "python",
   "pygments_lexer": "ipython3",
   "version": "3.7.6"
  }
 },
 "nbformat": 4,
 "nbformat_minor": 4
}
