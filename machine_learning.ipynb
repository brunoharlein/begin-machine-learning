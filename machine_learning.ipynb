{
 "cells": [
  {
   "cell_type": "markdown",
   "metadata": {},
   "source": [
    "Machine learning\n",
    "\n",
    "Dans ce cours vous aurez les bases du Machine Learning (apprentissage automatique à partir de données).\n",
    "Création de modèles de prédiction et de classification en Python avec des algorithmes de Machine Learning (branche de la Data Science)"
   ]
  },
  {
   "cell_type": "raw",
   "metadata": {},
   "source": [
    "Apprendre à construire, optimiser puis déployer des modèles prédictifs avec la librairie scikit-learn"
   ]
  },
  {
   "cell_type": "raw",
   "metadata": {},
   "source": [
    "Apprentissage des mécanismes des algorithmes des K Nearest neighbors (k plus proche voisins). Régression linéaire, régression logistique et algorithme des k-mean clistering."
   ]
  },
  {
   "cell_type": "raw",
   "metadata": {},
   "source": [
    "Apprentissage à évaluer la qualité et précision de ces modèles via des métriques d'erreurs. La validation croisée et l'optimisation d'hyper paramètres."
   ]
  },
  {
   "cell_type": "raw",
   "metadata": {},
   "source": [
    "Rappel : \n",
    "    - Les fondamentaux du Machine Learning avec le langage Python\n",
    "    - L'algorithme des k plus proches voisin (k Nearest Neighbors)\n",
    "    - Création et évaluation de la qualité de modèles en tout genre.\n",
    "    - Validation croisé holdout et des k-fold.\n",
    "    - Régression linéaire.\n",
    "    - Clustering des k-mean\n",
    "    - Classification simple & multiple\n",
    "    - Réseaux de neuronnes"
   ]
  },
  {
   "cell_type": "raw",
   "metadata": {},
   "source": [
    "Installation d'Anaconda (logiquement c'est bon ;-) sinon vous ne seriez pas ici )"
   ]
  },
  {
   "cell_type": "markdown",
   "metadata": {},
   "source": [
    "![title](1.png)\n"
   ]
  },
  {
   "cell_type": "markdown",
   "metadata": {},
   "source": [
    "Lancer anaconda navigator"
   ]
  },
  {
   "cell_type": "markdown",
   "metadata": {},
   "source": [
    "Choix de l'environnement \"base\"(root)"
   ]
  },
  {
   "cell_type": "markdown",
   "metadata": {},
   "source": [
    "![title](2.png)"
   ]
  },
  {
   "cell_type": "markdown",
   "metadata": {},
   "source": [
    "Sélection : open terminal"
   ]
  },
  {
   "cell_type": "markdown",
   "metadata": {},
   "source": [
    "Le termninal s'ouvre et il faudra donc installer quelques librairies :\n",
    "- pip install scipy\n",
    "- pip install sklearn\n",
    "- pip install seaborn\n",
    "- pip install pandas\n",
    "- pip install numpy\n",
    "- pip install matplotlib"
   ]
  },
  {
   "cell_type": "markdown",
   "metadata": {},
   "source": [
    "![title](3.png)"
   ]
  },
  {
   "cell_type": "markdown",
   "metadata": {},
   "source": [
    "Ouverture de Jupyter\n",
    "- Choix du dossier (création possible)\n",
    "- Mon dossier machine_learning contiendra mes notebook et mon dossier dataset ... mes dataset\n",
    "- Clic sur \"nouveau\" en haut à droite puis Python3"
   ]
  },
  {
   "cell_type": "markdown",
   "metadata": {},
   "source": [
    "La page du notebook s'ouvre il est temps de commencer notre initiation.\n",
    "- Nous commencerons par un petit rappel.\n",
    "- Une explication sur le machine learning\n",
    "- Présentation du projet"
   ]
  },
  {
   "cell_type": "code",
   "execution_count": 2,
   "metadata": {},
   "outputs": [],
   "source": [
    "# Importation des librairies pandas et numpy\n",
    "import pandas as pd\n",
    "import numpy as np"
   ]
  },
  {
   "cell_type": "code",
   "execution_count": 3,
   "metadata": {},
   "outputs": [],
   "source": [
    "# Rappel : les \"as\" sont des abréviations pour nous éviter de tout écrire à chaque fois.\n",
    "# Rappel : pour valider : shift + entrée"
   ]
  },
  {
   "cell_type": "markdown",
   "metadata": {},
   "source": [
    "Création d'un tableau Dataframe\n",
    "La variable airbnb recevra via la méthode read_csv de pandas paris_airbnb.csv"
   ]
  },
  {
   "cell_type": "code",
   "execution_count": 4,
   "metadata": {},
   "outputs": [],
   "source": [
    "airbnb = pd.read_csv('dataset/paris_airbnb.csv')"
   ]
  },
  {
   "cell_type": "markdown",
   "metadata": {},
   "source": [
    "Plusieurs choix pour afficher le Dataframe :\n",
    "- airbnb\n",
    "- airbnb[0:10] Affiche moi les lignes 0, 1, 2, 3, 4, 5, 6, 7, 8, 9 Attention ça commence toujours par 0\n",
    "- airbnb.iloc[0:10]\n",
    "- airbnb.head() affiche par défaut les 5 premières lignes\n",
    "- airbnb.tail() affiche les 5 dernières lignes"
   ]
  },
  {
   "cell_type": "code",
   "execution_count": 6,
   "metadata": {},
   "outputs": [
    {
     "data": {
      "text/html": [
       "<div>\n",
       "<style scoped>\n",
       "    .dataframe tbody tr th:only-of-type {\n",
       "        vertical-align: middle;\n",
       "    }\n",
       "\n",
       "    .dataframe tbody tr th {\n",
       "        vertical-align: top;\n",
       "    }\n",
       "\n",
       "    .dataframe thead th {\n",
       "        text-align: right;\n",
       "    }\n",
       "</style>\n",
       "<table border=\"1\" class=\"dataframe\">\n",
       "  <thead>\n",
       "    <tr style=\"text-align: right;\">\n",
       "      <th></th>\n",
       "      <th>host_response_rate</th>\n",
       "      <th>host_acceptance_rate</th>\n",
       "      <th>host_listings_count</th>\n",
       "      <th>latitude</th>\n",
       "      <th>longitude</th>\n",
       "      <th>city</th>\n",
       "      <th>zipcode</th>\n",
       "      <th>state</th>\n",
       "      <th>accommodates</th>\n",
       "      <th>room_type</th>\n",
       "      <th>bedrooms</th>\n",
       "      <th>bathrooms</th>\n",
       "      <th>beds</th>\n",
       "      <th>price</th>\n",
       "      <th>cleaning_fee</th>\n",
       "      <th>security_deposit</th>\n",
       "      <th>minimum_nights</th>\n",
       "      <th>maximum_nights</th>\n",
       "      <th>number_of_reviews</th>\n",
       "    </tr>\n",
       "  </thead>\n",
       "  <tbody>\n",
       "    <tr>\n",
       "      <th>0</th>\n",
       "      <td>100%</td>\n",
       "      <td>NaN</td>\n",
       "      <td>1.0</td>\n",
       "      <td>48.83349</td>\n",
       "      <td>2.31852</td>\n",
       "      <td>Paris</td>\n",
       "      <td>75014</td>\n",
       "      <td>Île-de-France</td>\n",
       "      <td>2</td>\n",
       "      <td>Entire home/apt</td>\n",
       "      <td>0.0</td>\n",
       "      <td>1.0</td>\n",
       "      <td>0.0</td>\n",
       "      <td>$75.00</td>\n",
       "      <td>$50.00</td>\n",
       "      <td>$0.00</td>\n",
       "      <td>3</td>\n",
       "      <td>15</td>\n",
       "      <td>8</td>\n",
       "    </tr>\n",
       "    <tr>\n",
       "      <th>1</th>\n",
       "      <td>100%</td>\n",
       "      <td>NaN</td>\n",
       "      <td>1.0</td>\n",
       "      <td>48.85100</td>\n",
       "      <td>2.35869</td>\n",
       "      <td>Paris</td>\n",
       "      <td>75004</td>\n",
       "      <td>Ile-de-France</td>\n",
       "      <td>2</td>\n",
       "      <td>Entire home/apt</td>\n",
       "      <td>0.0</td>\n",
       "      <td>1.0</td>\n",
       "      <td>1.0</td>\n",
       "      <td>$115.00</td>\n",
       "      <td>$36.00</td>\n",
       "      <td>$0.00</td>\n",
       "      <td>1</td>\n",
       "      <td>90</td>\n",
       "      <td>173</td>\n",
       "    </tr>\n",
       "    <tr>\n",
       "      <th>2</th>\n",
       "      <td>100%</td>\n",
       "      <td>NaN</td>\n",
       "      <td>2.0</td>\n",
       "      <td>48.85758</td>\n",
       "      <td>2.35275</td>\n",
       "      <td>Paris</td>\n",
       "      <td>75004</td>\n",
       "      <td>Île-de-France</td>\n",
       "      <td>4</td>\n",
       "      <td>Entire home/apt</td>\n",
       "      <td>2.0</td>\n",
       "      <td>1.0</td>\n",
       "      <td>2.0</td>\n",
       "      <td>$115.00</td>\n",
       "      <td>$50.00</td>\n",
       "      <td>$200.00</td>\n",
       "      <td>10</td>\n",
       "      <td>23</td>\n",
       "      <td>243</td>\n",
       "    </tr>\n",
       "    <tr>\n",
       "      <th>3</th>\n",
       "      <td>100%</td>\n",
       "      <td>NaN</td>\n",
       "      <td>1.0</td>\n",
       "      <td>48.86528</td>\n",
       "      <td>2.39326</td>\n",
       "      <td>Paris</td>\n",
       "      <td>75020</td>\n",
       "      <td>Ile-de-France</td>\n",
       "      <td>3</td>\n",
       "      <td>Entire home/apt</td>\n",
       "      <td>1.0</td>\n",
       "      <td>1.0</td>\n",
       "      <td>1.0</td>\n",
       "      <td>$90.00</td>\n",
       "      <td>NaN</td>\n",
       "      <td>NaN</td>\n",
       "      <td>3</td>\n",
       "      <td>365</td>\n",
       "      <td>1</td>\n",
       "    </tr>\n",
       "    <tr>\n",
       "      <th>4</th>\n",
       "      <td>67%</td>\n",
       "      <td>NaN</td>\n",
       "      <td>3.0</td>\n",
       "      <td>48.85899</td>\n",
       "      <td>2.34735</td>\n",
       "      <td>Paris</td>\n",
       "      <td>75001</td>\n",
       "      <td>Île-de-France</td>\n",
       "      <td>2</td>\n",
       "      <td>Entire home/apt</td>\n",
       "      <td>1.0</td>\n",
       "      <td>1.0</td>\n",
       "      <td>1.0</td>\n",
       "      <td>$75.00</td>\n",
       "      <td>$200.00</td>\n",
       "      <td>$1,500.00</td>\n",
       "      <td>180</td>\n",
       "      <td>365</td>\n",
       "      <td>0</td>\n",
       "    </tr>\n",
       "    <tr>\n",
       "      <th>5</th>\n",
       "      <td>100%</td>\n",
       "      <td>NaN</td>\n",
       "      <td>1.0</td>\n",
       "      <td>48.86227</td>\n",
       "      <td>2.37134</td>\n",
       "      <td>Paris</td>\n",
       "      <td>75011</td>\n",
       "      <td>Ile-de-France</td>\n",
       "      <td>2</td>\n",
       "      <td>Entire home/apt</td>\n",
       "      <td>1.0</td>\n",
       "      <td>1.0</td>\n",
       "      <td>1.0</td>\n",
       "      <td>$75.00</td>\n",
       "      <td>$20.00</td>\n",
       "      <td>$250.00</td>\n",
       "      <td>5</td>\n",
       "      <td>120</td>\n",
       "      <td>17</td>\n",
       "    </tr>\n",
       "    <tr>\n",
       "      <th>6</th>\n",
       "      <td>NaN</td>\n",
       "      <td>NaN</td>\n",
       "      <td>4.0</td>\n",
       "      <td>48.88902</td>\n",
       "      <td>2.34656</td>\n",
       "      <td>Paris</td>\n",
       "      <td>75018</td>\n",
       "      <td>Ile-de-France</td>\n",
       "      <td>4</td>\n",
       "      <td>Entire home/apt</td>\n",
       "      <td>NaN</td>\n",
       "      <td>1.0</td>\n",
       "      <td>1.0</td>\n",
       "      <td>$80.00</td>\n",
       "      <td>$36.00</td>\n",
       "      <td>$800.00</td>\n",
       "      <td>90</td>\n",
       "      <td>730</td>\n",
       "      <td>42</td>\n",
       "    </tr>\n",
       "    <tr>\n",
       "      <th>7</th>\n",
       "      <td>NaN</td>\n",
       "      <td>NaN</td>\n",
       "      <td>4.0</td>\n",
       "      <td>48.88918</td>\n",
       "      <td>2.34490</td>\n",
       "      <td>Paris</td>\n",
       "      <td>75018</td>\n",
       "      <td>Ile-de-France</td>\n",
       "      <td>3</td>\n",
       "      <td>Entire home/apt</td>\n",
       "      <td>NaN</td>\n",
       "      <td>1.0</td>\n",
       "      <td>1.0</td>\n",
       "      <td>$75.00</td>\n",
       "      <td>NaN</td>\n",
       "      <td>$400.00</td>\n",
       "      <td>30</td>\n",
       "      <td>730</td>\n",
       "      <td>16</td>\n",
       "    </tr>\n",
       "    <tr>\n",
       "      <th>8</th>\n",
       "      <td>100%</td>\n",
       "      <td>NaN</td>\n",
       "      <td>1.0</td>\n",
       "      <td>48.87900</td>\n",
       "      <td>2.31608</td>\n",
       "      <td>Paris</td>\n",
       "      <td>75008</td>\n",
       "      <td>Ile-de-France</td>\n",
       "      <td>4</td>\n",
       "      <td>Entire home/apt</td>\n",
       "      <td>1.0</td>\n",
       "      <td>1.0</td>\n",
       "      <td>2.0</td>\n",
       "      <td>$90.00</td>\n",
       "      <td>$60.00</td>\n",
       "      <td>$600.00</td>\n",
       "      <td>3</td>\n",
       "      <td>730</td>\n",
       "      <td>40</td>\n",
       "    </tr>\n",
       "    <tr>\n",
       "      <th>9</th>\n",
       "      <td>100%</td>\n",
       "      <td>NaN</td>\n",
       "      <td>2.0</td>\n",
       "      <td>48.84670</td>\n",
       "      <td>2.35095</td>\n",
       "      <td>Paris</td>\n",
       "      <td>75005</td>\n",
       "      <td>Île-de-France</td>\n",
       "      <td>2</td>\n",
       "      <td>Entire home/apt</td>\n",
       "      <td>0.0</td>\n",
       "      <td>1.0</td>\n",
       "      <td>1.0</td>\n",
       "      <td>$75.00</td>\n",
       "      <td>NaN</td>\n",
       "      <td>NaN</td>\n",
       "      <td>2</td>\n",
       "      <td>1125</td>\n",
       "      <td>336</td>\n",
       "    </tr>\n",
       "  </tbody>\n",
       "</table>\n",
       "</div>"
      ],
      "text/plain": [
       "  host_response_rate  host_acceptance_rate  host_listings_count  latitude  \\\n",
       "0               100%                   NaN                  1.0  48.83349   \n",
       "1               100%                   NaN                  1.0  48.85100   \n",
       "2               100%                   NaN                  2.0  48.85758   \n",
       "3               100%                   NaN                  1.0  48.86528   \n",
       "4                67%                   NaN                  3.0  48.85899   \n",
       "5               100%                   NaN                  1.0  48.86227   \n",
       "6                NaN                   NaN                  4.0  48.88902   \n",
       "7                NaN                   NaN                  4.0  48.88918   \n",
       "8               100%                   NaN                  1.0  48.87900   \n",
       "9               100%                   NaN                  2.0  48.84670   \n",
       "\n",
       "   longitude   city zipcode          state  accommodates        room_type  \\\n",
       "0    2.31852  Paris   75014  Île-de-France             2  Entire home/apt   \n",
       "1    2.35869  Paris   75004  Ile-de-France             2  Entire home/apt   \n",
       "2    2.35275  Paris   75004  Île-de-France             4  Entire home/apt   \n",
       "3    2.39326  Paris   75020  Ile-de-France             3  Entire home/apt   \n",
       "4    2.34735  Paris   75001  Île-de-France             2  Entire home/apt   \n",
       "5    2.37134  Paris   75011  Ile-de-France             2  Entire home/apt   \n",
       "6    2.34656  Paris   75018  Ile-de-France             4  Entire home/apt   \n",
       "7    2.34490  Paris   75018  Ile-de-France             3  Entire home/apt   \n",
       "8    2.31608  Paris   75008  Ile-de-France             4  Entire home/apt   \n",
       "9    2.35095  Paris   75005  Île-de-France             2  Entire home/apt   \n",
       "\n",
       "   bedrooms  bathrooms  beds    price cleaning_fee security_deposit  \\\n",
       "0       0.0        1.0   0.0   $75.00       $50.00            $0.00   \n",
       "1       0.0        1.0   1.0  $115.00       $36.00            $0.00   \n",
       "2       2.0        1.0   2.0  $115.00       $50.00          $200.00   \n",
       "3       1.0        1.0   1.0   $90.00          NaN              NaN   \n",
       "4       1.0        1.0   1.0   $75.00      $200.00        $1,500.00   \n",
       "5       1.0        1.0   1.0   $75.00       $20.00          $250.00   \n",
       "6       NaN        1.0   1.0   $80.00       $36.00          $800.00   \n",
       "7       NaN        1.0   1.0   $75.00          NaN          $400.00   \n",
       "8       1.0        1.0   2.0   $90.00       $60.00          $600.00   \n",
       "9       0.0        1.0   1.0   $75.00          NaN              NaN   \n",
       "\n",
       "   minimum_nights  maximum_nights  number_of_reviews  \n",
       "0               3              15                  8  \n",
       "1               1              90                173  \n",
       "2              10              23                243  \n",
       "3               3             365                  1  \n",
       "4             180             365                  0  \n",
       "5               5             120                 17  \n",
       "6              90             730                 42  \n",
       "7              30             730                 16  \n",
       "8               3             730                 40  \n",
       "9               2            1125                336  "
      ]
     },
     "execution_count": 6,
     "metadata": {},
     "output_type": "execute_result"
    }
   ],
   "source": [
    "# exemple :\n",
    "airbnb.head(10)\n",
    "# affichage des 10 lignes"
   ]
  },
  {
   "cell_type": "markdown",
   "metadata": {},
   "source": [
    "Pour afficher les informations de Dataframe :\n",
    "- dataframe.info()"
   ]
  },
  {
   "cell_type": "code",
   "execution_count": 7,
   "metadata": {},
   "outputs": [
    {
     "name": "stdout",
     "output_type": "stream",
     "text": [
      "<class 'pandas.core.frame.DataFrame'>\n",
      "RangeIndex: 8000 entries, 0 to 7999\n",
      "Data columns (total 19 columns):\n",
      " #   Column                Non-Null Count  Dtype  \n",
      "---  ------                --------------  -----  \n",
      " 0   host_response_rate    5000 non-null   object \n",
      " 1   host_acceptance_rate  0 non-null      float64\n",
      " 2   host_listings_count   7999 non-null   float64\n",
      " 3   latitude              8000 non-null   float64\n",
      " 4   longitude             8000 non-null   float64\n",
      " 5   city                  7997 non-null   object \n",
      " 6   zipcode               7930 non-null   object \n",
      " 7   state                 7977 non-null   object \n",
      " 8   accommodates          8000 non-null   int64  \n",
      " 9   room_type             8000 non-null   object \n",
      " 10  bedrooms              7976 non-null   float64\n",
      " 11  bathrooms             7942 non-null   float64\n",
      " 12  beds                  7986 non-null   float64\n",
      " 13  price                 8000 non-null   object \n",
      " 14  cleaning_fee          6250 non-null   object \n",
      " 15  security_deposit      6320 non-null   object \n",
      " 16  minimum_nights        8000 non-null   int64  \n",
      " 17  maximum_nights        8000 non-null   int64  \n",
      " 18  number_of_reviews     8000 non-null   int64  \n",
      "dtypes: float64(7), int64(4), object(8)\n",
      "memory usage: 1.2+ MB\n"
     ]
    }
   ],
   "source": [
    "# exemple :\n",
    "airbnb.info()"
   ]
  },
  {
   "cell_type": "markdown",
   "metadata": {},
   "source": [
    "Regardons les informations : \n",
    "- 18 colonnes donc 18 object series \n",
    "- column : le nom des colonnes\n",
    "- non-null count : nombre de valeurs non null \n",
    "- Dtype : type "
   ]
  },
  {
   "cell_type": "markdown",
   "metadata": {},
   "source": [
    "#### Nous venons de voir des fonctions qui s'appliquent à un Dataframe mais il existe aussi des fonctions pour les objects series."
   ]
  },
  {
   "cell_type": "markdown",
   "metadata": {},
   "source": [
    "Un object series est une sorte de liste ou de vecteur (une colonne du Dataframe). Par exemple airbnb['beds'] affichera un object series (la colonne beds)"
   ]
  },
  {
   "cell_type": "code",
   "execution_count": 8,
   "metadata": {},
   "outputs": [
    {
     "data": {
      "text/plain": [
       "0       0.0\n",
       "1       1.0\n",
       "2       2.0\n",
       "3       1.0\n",
       "4       1.0\n",
       "       ... \n",
       "7995    1.0\n",
       "7996    2.0\n",
       "7997    1.0\n",
       "7998    1.0\n",
       "7999    3.0\n",
       "Name: beds, Length: 8000, dtype: float64"
      ]
     },
     "execution_count": 8,
     "metadata": {},
     "output_type": "execute_result"
    }
   ],
   "source": [
    "airbnb['beds']"
   ]
  },
  {
   "cell_type": "code",
   "execution_count": 9,
   "metadata": {},
   "outputs": [
    {
     "data": {
      "text/plain": [
       "pandas.core.series.Series"
      ]
     },
     "execution_count": 9,
     "metadata": {},
     "output_type": "execute_result"
    }
   ],
   "source": [
    "# Pour être sur et certain\n",
    "type(airbnb['beds'])"
   ]
  },
  {
   "cell_type": "code",
   "execution_count": 10,
   "metadata": {},
   "outputs": [
    {
     "data": {
      "text/html": [
       "<div>\n",
       "<style scoped>\n",
       "    .dataframe tbody tr th:only-of-type {\n",
       "        vertical-align: middle;\n",
       "    }\n",
       "\n",
       "    .dataframe tbody tr th {\n",
       "        vertical-align: top;\n",
       "    }\n",
       "\n",
       "    .dataframe thead th {\n",
       "        text-align: right;\n",
       "    }\n",
       "</style>\n",
       "<table border=\"1\" class=\"dataframe\">\n",
       "  <thead>\n",
       "    <tr style=\"text-align: right;\">\n",
       "      <th></th>\n",
       "      <th>beds</th>\n",
       "      <th>bedrooms</th>\n",
       "    </tr>\n",
       "  </thead>\n",
       "  <tbody>\n",
       "    <tr>\n",
       "      <th>0</th>\n",
       "      <td>0.0</td>\n",
       "      <td>0.0</td>\n",
       "    </tr>\n",
       "    <tr>\n",
       "      <th>1</th>\n",
       "      <td>1.0</td>\n",
       "      <td>0.0</td>\n",
       "    </tr>\n",
       "    <tr>\n",
       "      <th>2</th>\n",
       "      <td>2.0</td>\n",
       "      <td>2.0</td>\n",
       "    </tr>\n",
       "    <tr>\n",
       "      <th>3</th>\n",
       "      <td>1.0</td>\n",
       "      <td>1.0</td>\n",
       "    </tr>\n",
       "    <tr>\n",
       "      <th>4</th>\n",
       "      <td>1.0</td>\n",
       "      <td>1.0</td>\n",
       "    </tr>\n",
       "    <tr>\n",
       "      <th>...</th>\n",
       "      <td>...</td>\n",
       "      <td>...</td>\n",
       "    </tr>\n",
       "    <tr>\n",
       "      <th>7995</th>\n",
       "      <td>1.0</td>\n",
       "      <td>0.0</td>\n",
       "    </tr>\n",
       "    <tr>\n",
       "      <th>7996</th>\n",
       "      <td>2.0</td>\n",
       "      <td>1.0</td>\n",
       "    </tr>\n",
       "    <tr>\n",
       "      <th>7997</th>\n",
       "      <td>1.0</td>\n",
       "      <td>1.0</td>\n",
       "    </tr>\n",
       "    <tr>\n",
       "      <th>7998</th>\n",
       "      <td>1.0</td>\n",
       "      <td>NaN</td>\n",
       "    </tr>\n",
       "    <tr>\n",
       "      <th>7999</th>\n",
       "      <td>3.0</td>\n",
       "      <td>1.0</td>\n",
       "    </tr>\n",
       "  </tbody>\n",
       "</table>\n",
       "<p>8000 rows × 2 columns</p>\n",
       "</div>"
      ],
      "text/plain": [
       "      beds  bedrooms\n",
       "0      0.0       0.0\n",
       "1      1.0       0.0\n",
       "2      2.0       2.0\n",
       "3      1.0       1.0\n",
       "4      1.0       1.0\n",
       "...    ...       ...\n",
       "7995   1.0       0.0\n",
       "7996   2.0       1.0\n",
       "7997   1.0       1.0\n",
       "7998   1.0       NaN\n",
       "7999   3.0       1.0\n",
       "\n",
       "[8000 rows x 2 columns]"
      ]
     },
     "execution_count": 10,
     "metadata": {},
     "output_type": "execute_result"
    }
   ],
   "source": [
    "# Sélection de deux colonnes\n",
    "airbnb[['beds', 'bedrooms']]"
   ]
  },
  {
   "cell_type": "code",
   "execution_count": 11,
   "metadata": {},
   "outputs": [
    {
     "data": {
      "text/plain": [
       "pandas.core.frame.DataFrame"
      ]
     },
     "execution_count": 11,
     "metadata": {},
     "output_type": "execute_result"
    }
   ],
   "source": [
    "# nouvelle vérification\n",
    "type(airbnb[['beds', 'bedrooms']])"
   ]
  },
  {
   "cell_type": "markdown",
   "metadata": {},
   "source": [
    "Ici il s'agit d'un Dataframe et non d'un object series, pourquoi ? il y a deux colonnes"
   ]
  },
  {
   "cell_type": "code",
   "execution_count": 12,
   "metadata": {},
   "outputs": [
    {
     "data": {
      "text/plain": [
       "beds        1.753068\n",
       "bedrooms    1.248370\n",
       "dtype: float64"
      ]
     },
     "execution_count": 12,
     "metadata": {},
     "output_type": "execute_result"
    }
   ],
   "source": [
    "# Pour calculer la moyenne de lits et de chambres pour un Dataframe.\n",
    "airbnb[['beds', 'bedrooms']].mean()"
   ]
  },
  {
   "cell_type": "markdown",
   "metadata": {},
   "source": [
    "##### Attention pour un object series il faut utiliser numpy"
   ]
  },
  {
   "cell_type": "code",
   "execution_count": 13,
   "metadata": {},
   "outputs": [
    {
     "data": {
      "text/plain": [
       "1.753067868770348"
      ]
     },
     "execution_count": 13,
     "metadata": {},
     "output_type": "execute_result"
    }
   ],
   "source": [
    "np.mean(airbnb['beds'])"
   ]
  },
  {
   "cell_type": "markdown",
   "metadata": {},
   "source": [
    "### Concept de boucle"
   ]
  },
  {
   "cell_type": "markdown",
   "metadata": {},
   "source": [
    "Nous allons chercher les colonnes qui sont de types float avec l'attribut .columns qui nous retournera le nom des colonnes. L'attribut to_list() lui nous retournera une liste de toutes les colonnes."
   ]
  },
  {
   "cell_type": "code",
   "execution_count": 15,
   "metadata": {},
   "outputs": [],
   "source": [
    "airbnb_cols = airbnb.select_dtypes(include=['float']).columns.to_list()"
   ]
  },
  {
   "cell_type": "code",
   "execution_count": 16,
   "metadata": {},
   "outputs": [
    {
     "data": {
      "text/plain": [
       "['host_acceptance_rate',\n",
       " 'host_listings_count',\n",
       " 'latitude',\n",
       " 'longitude',\n",
       " 'bedrooms',\n",
       " 'bathrooms',\n",
       " 'beds']"
      ]
     },
     "execution_count": 16,
     "metadata": {},
     "output_type": "execute_result"
    }
   ],
   "source": [
    "airbnb_cols"
   ]
  },
  {
   "cell_type": "markdown",
   "metadata": {},
   "source": [
    "Nous avons donc une liste des colonnes qui sont de types \"float\""
   ]
  },
  {
   "cell_type": "code",
   "execution_count": null,
   "metadata": {},
   "outputs": [],
   "source": []
  }
 ],
 "metadata": {
  "kernelspec": {
   "display_name": "Python 3",
   "language": "python",
   "name": "python3"
  },
  "language_info": {
   "codemirror_mode": {
    "name": "ipython",
    "version": 3
   },
   "file_extension": ".py",
   "mimetype": "text/x-python",
   "name": "python",
   "nbconvert_exporter": "python",
   "pygments_lexer": "ipython3",
   "version": "3.7.6"
  }
 },
 "nbformat": 4,
 "nbformat_minor": 4
}
