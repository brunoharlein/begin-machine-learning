{
 "cells": [
  {
   "cell_type": "markdown",
   "metadata": {},
   "source": [
    "### Machine Learning les fondamentaux :"
   ]
  },
  {
   "cell_type": "markdown",
   "metadata": {},
   "source": [
    "- Introduction à l'algorithme des k plus proches voisins avec la création de notre premier modèle et la réalisation de notre première prédiction.\n",
    "- Nous verrons ensuite les différentes métriques pour évaluer la performance d'un modèle.\n",
    "- Nous allons construire des modèles plus complexes avec plus de caractéristiques et voir l'évolution de leur performances.\n",
    "- Nous verrons l'optimisation des hypers paramètres en faisant varier la valeur de k dans l'algorithme.\n",
    "- Nous terminerons par le concept de validation croisée."
   ]
  },
  {
   "cell_type": "markdown",
   "metadata": {},
   "source": [
    "#### Qu'est-ce que le Machine Learning ? "
   ]
  },
  {
   "cell_type": "markdown",
   "metadata": {},
   "source": [
    "Présentation de Airbnb (31 milliards de Dollars) \n",
    "Plateforme qui permet de louer pour une durée plus ou moins longue son logement. Il est possible de louer un logement complet, une chambre ou encore plussieurs pièces.\n",
    "Il est donc important de déterminer le prix optimal pour une nuit.\n",
    "Le prix du loyer est lier étroitement à la dynamique du marché."
   ]
  },
  {
   "cell_type": "markdown",
   "metadata": {},
   "source": [
    "- Pour notre projet le prix par nuit sera sélectionner\n",
    "- Il faudra trouver quelques annonces similaires à la nôtre.\n",
    "- Faire la moyenne du prix indiqué pour les annonces les plus similaires à la nôtre.\n",
    "- Fixer notre prix de location à ce prix moyen calculé."
   ]
  },
  {
   "cell_type": "markdown",
   "metadata": {},
   "source": [
    "Le processus de découverte de modèles dans les données existantes pour effectuer une prédiction est appelé : apprentissage en mode automatique ou Machine Learning.\n",
    "Dans notre cas nous souhaitons utiliser les données des locations locales pour prévoir un prix optimal à définir. Dans cette section nous utiliserons les k plus proches voisins (kNN) qui reflète la stratégie que nous venons de définir à l'instant."
   ]
  },
  {
   "cell_type": "markdown",
   "metadata": {},
   "source": [
    "##### Sinon pour les personnes qui veulent une super définition du Machine Learning :"
   ]
  },
  {
   "cell_type": "markdown",
   "metadata": {},
   "source": [
    "Le Machine Learning est un ensemble de techniques utilisées par les Data Scientists. Ses applications sont variées et très prometteuses !\n",
    "\n",
    "Une fois que le Data Scientist a effectué son travail de collecte, de nettoyage et d’exploration des données, il peut passer à la partie \"modélisation\".\n",
    "Le machine learning désigne l'ensemble des méthodes de modélisation statistique à partir des données."
   ]
  },
  {
   "cell_type": "code",
   "execution_count": null,
   "metadata": {},
   "outputs": [],
   "source": []
  }
 ],
 "metadata": {
  "kernelspec": {
   "display_name": "Python 3",
   "language": "python",
   "name": "python3"
  },
  "language_info": {
   "codemirror_mode": {
    "name": "ipython",
    "version": 3
   },
   "file_extension": ".py",
   "mimetype": "text/x-python",
   "name": "python",
   "nbconvert_exporter": "python",
   "pygments_lexer": "ipython3",
   "version": "3.7.6"
  }
 },
 "nbformat": 4,
 "nbformat_minor": 4
}
