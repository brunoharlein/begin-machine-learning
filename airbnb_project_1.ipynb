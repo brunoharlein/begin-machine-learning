{
 "cells": [
  {
   "cell_type": "markdown",
   "metadata": {},
   "source": [
    "### Machine Learning les fondamentaux :"
   ]
  },
  {
   "cell_type": "markdown",
   "metadata": {},
   "source": [
    "- Introduction à l'algorithme des k plus proches voisins avec la création de notre premier modèle et la réalisation de notre première prédiction.\n",
    "- Nous verrons ensuite les différentes métriques pour évaluer la performance d'un modèle.\n",
    "- Nous allons construire des modèles plus complexes avec plus de caractéristiques et voir l'évolution de leur performances.\n",
    "- Nous verrons l'optimisation des hypers paramètres en faisant varier la valeur de k dans l'algorithme.\n",
    "- Nous terminerons par le concept de validation croisée."
   ]
  },
  {
   "cell_type": "markdown",
   "metadata": {},
   "source": [
    "#### Qu'est-ce que le Machine Learning ? "
   ]
  },
  {
   "cell_type": "markdown",
   "metadata": {},
   "source": [
    "Présentation de Airbnb (31 milliards de Dollars) \n",
    "Plateforme qui permet de louer pour une durée plus ou moins longue son logement. Il est possible de louer un logement complet, une chambre ou encore plussieurs pièces.\n",
    "Il est donc important de déterminer le prix optimal pour une nuit.\n",
    "Le prix du loyer est lier étroitement à la dynamique du marché."
   ]
  },
  {
   "cell_type": "markdown",
   "metadata": {},
   "source": [
    "- Pour notre projet le prix par nuit sera sélectionner\n",
    "- Il faudra trouver quelques annonces similaires à la nôtre.\n",
    "- Faire la moyenne du prix indiqué pour les annonces les plus similaires à la nôtre.\n",
    "- Fixer notre prix de location à ce prix moyen calculé."
   ]
  },
  {
   "cell_type": "markdown",
   "metadata": {},
   "source": [
    "Le processus de découverte de modèles dans les données existantes pour effectuer une prédiction est appelé : apprentissage en mode automatique ou Machine Learning.\n",
    "Dans notre cas nous souhaitons utiliser les données des locations locales pour prévoir un prix optimal à définir. Dans cette section nous utiliserons les k plus proches voisins (kNN) qui reflète la stratégie que nous venons de définir à l'instant."
   ]
  },
  {
   "cell_type": "markdown",
   "metadata": {},
   "source": [
    "##### Sinon pour les personnes qui veulent une super définition du Machine Learning :"
   ]
  },
  {
   "cell_type": "markdown",
   "metadata": {},
   "source": [
    "Le Machine Learning est un ensemble de techniques utilisées par les Data Scientists. Ses applications sont variées et très prometteuses !\n",
    "\n",
    "Une fois que le Data Scientist a effectué son travail de collecte, de nettoyage et d’exploration des données, il peut passer à la partie \"modélisation\".\n",
    "Le machine learning désigne l'ensemble des méthodes de modélisation statistique à partir des données."
   ]
  },
  {
   "cell_type": "markdown",
   "metadata": {},
   "source": [
    "### Introduction au Dataset"
   ]
  },
  {
   "cell_type": "markdown",
   "metadata": {},
   "source": [
    "Rien de tel que commencer par un petit test : \n",
    "\n",
    "- Lire le fichier 'paris_airbnb.csv' dans un DataFrame nommé 'paris_listings'\n",
    "- Afficher la première ligne de paris_listings\n",
    "\n",
    "petit indice :\n",
    "\n",
    "- DataFrame.iloc[] entre crochet le numéro de ligne que je souhaite ... ... "
   ]
  },
  {
   "cell_type": "code",
   "execution_count": 2,
   "metadata": {},
   "outputs": [
    {
     "name": "stdout",
     "output_type": "stream",
     "text": [
      "host_response_rate                 100%\n",
      "host_acceptance_rate                NaN\n",
      "host_listings_count                   1\n",
      "latitude                        48.8335\n",
      "longitude                       2.31852\n",
      "city                              Paris\n",
      "zipcode                           75014\n",
      "state                     Île-de-France\n",
      "accommodates                          2\n",
      "room_type               Entire home/apt\n",
      "bedrooms                              0\n",
      "bathrooms                             1\n",
      "beds                                  0\n",
      "price                            $75.00\n",
      "cleaning_fee                     $50.00\n",
      "security_deposit                  $0.00\n",
      "minimum_nights                        3\n",
      "maximum_nights                       15\n",
      "number_of_reviews                     8\n",
      "Name: 0, dtype: object\n"
     ]
    }
   ],
   "source": [
    "# Solution au premier test :\n",
    "\n",
    "import pandas as pd\n",
    "# importation de la librairie Pandas, ne pas oublier le petit 'as pd'\n",
    "\n",
    "import numpy as np \n",
    "# Pas demandé mais il peut servir\n",
    "\n",
    "paris_listings = pd.read_csv('dataset/paris_airbnb.csv')\n",
    "# paris_listings retournera donc un DataFrame\n",
    "\n",
    "print(paris_listings.iloc[0])\n",
    "# Affichage de la première ligne grace à .iloc"
   ]
  },
  {
   "cell_type": "markdown",
   "metadata": {},
   "source": [
    "![title](4.png)"
   ]
  },
  {
   "cell_type": "markdown",
   "metadata": {},
   "source": [
    "Voici un récapitulatif des colonnes de notre DataFrame"
   ]
  },
  {
   "cell_type": "markdown",
   "metadata": {},
   "source": []
  },
  {
   "cell_type": "markdown",
   "metadata": {},
   "source": [
    "#### Les k plus proches voisins"
   ]
  },
  {
   "cell_type": "markdown",
   "metadata": {},
   "source": [
    "Nous avons un logememnt mais nous ne connaissons pas le prix.\n",
    "- Il faut donc lancer une stratégie :\n",
    "    - Trouver quelques logements similaires au notre.\n",
    "    - Calculer le prix moyen par nuit de ces logements.\n",
    "    - Définir un prix pour notre logement.\n",
    "    \n",
    "L'algo des k plus proches voisins fonctionne de façon similaire à notre startégie."
   ]
  },
  {
   "cell_type": "markdown",
   "metadata": {},
   "source": [
    "![title](5.png)"
   ]
  },
  {
   "cell_type": "markdown",
   "metadata": {},
   "source": [
    "1) Sélectionner le nombre k de logements similaires à notre logement cible.\n",
    "- Nous avons 3 graphiques identiques mais avec 3 valeurs de k (3, 5, 7)\n",
    "- En abscisse nous avons le nombre de chambres, en ordonné le prix.\n",
    "- Sur le 1er graph nous remarquons trois logements similaires au notre (k=3) 3 logements avec le même nombre de chambres.\n",
    "- Sur le second graph (k=5) nous avons en plus un logement avec une chambre de moins et un autre avec une chambre de plus.\n",
    "- Pour k=7 nous prenons 2 logements en plus."
   ]
  },
  {
   "cell_type": "markdown",
   "metadata": {},
   "source": [
    "2) Ensuite nous allons vers une comparaison pour chaque logements, nous allons calculer la similarité avec notre logement cible. Nous reprendons le Dataset avec 5 lignes au hasard de la colonne \"bedrooms\" et \"price\" et nous allons comparer chaque lignes du Dataset avec le logement cible qui n'a pas de prix. \n",
    "Nous remarquons que notre logement possède une chambre donc sur notre Dataset nous nous concentrerons sur les 4 logements possédant une chambre."
   ]
  },
  {
   "cell_type": "code",
   "execution_count": null,
   "metadata": {},
   "outputs": [],
   "source": []
  }
 ],
 "metadata": {
  "kernelspec": {
   "display_name": "Python 3",
   "language": "python",
   "name": "python3"
  },
  "language_info": {
   "codemirror_mode": {
    "name": "ipython",
    "version": 3
   },
   "file_extension": ".py",
   "mimetype": "text/x-python",
   "name": "python",
   "nbconvert_exporter": "python",
   "pygments_lexer": "ipython3",
   "version": "3.7.6"
  }
 },
 "nbformat": 4,
 "nbformat_minor": 4
}
