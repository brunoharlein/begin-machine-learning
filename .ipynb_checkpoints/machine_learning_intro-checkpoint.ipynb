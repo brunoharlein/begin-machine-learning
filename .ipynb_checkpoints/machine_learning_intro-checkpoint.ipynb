{
 "cells": [
  {
   "cell_type": "markdown",
   "metadata": {},
   "source": [
    "Machine learning\n",
    "\n",
    "Dans ce cours vous aurez les bases du Machine Learning (apprentissage automatique à partir de données).\n",
    "Création de modèles de prédiction et de classification en Python avec des algorithmes de Machine Learning (branche de la Data Science)"
   ]
  },
  {
   "cell_type": "markdown",
   "metadata": {},
   "source": [
    "Apprendre à construire, optimiser puis déployer des modèles prédictifs avec la librairie scikit-learn"
   ]
  },
  {
   "cell_type": "markdown",
   "metadata": {},
   "source": [
    "Apprentissage des mécanismes des algorithmes des K Nearest neighbors (k plus proche voisins). Régression linéaire, régression logistique et algorithme des k-mean clistering."
   ]
  },
  {
   "cell_type": "markdown",
   "metadata": {},
   "source": [
    "Apprentissage à évaluer la qualité et précision de ces modèles via des métriques d'erreurs. La validation croisée et l'optimisation d'hyper paramètres."
   ]
  },
  {
   "cell_type": "markdown",
   "metadata": {},
   "source": [
    "Rappel : \n",
    "- Les fondamentaux du Machine Learning avec le langage Python\n",
    "- L'algorithme des k plus proches voisin (k Nearest Neighbors)\n",
    "- Création et évaluation de la qualité de modèles en tout genre.\n",
    "- Validation croisé holdout et des k-fold.\n",
    "- Régression linéaire.\n",
    "- Clustering des k-mean\n",
    "- Classification simple & multiple\n",
    "- Réseaux de neuronnes"
   ]
  },
  {
   "cell_type": "markdown",
   "metadata": {},
   "source": [
    "Installation d'Anaconda (logiquement c'est bon ;-) sinon vous ne seriez pas ici )"
   ]
  },
  {
   "cell_type": "markdown",
   "metadata": {},
   "source": [
    "![title](1.png)\n"
   ]
  },
  {
   "cell_type": "markdown",
   "metadata": {},
   "source": [
    "Lancer anaconda navigator"
   ]
  },
  {
   "cell_type": "markdown",
   "metadata": {},
   "source": [
    "Choix de l'environnement \"base\"(root)"
   ]
  },
  {
   "cell_type": "markdown",
   "metadata": {},
   "source": [
    "![title](2.png)"
   ]
  },
  {
   "cell_type": "markdown",
   "metadata": {},
   "source": [
    "Sélection : open terminal"
   ]
  },
  {
   "cell_type": "markdown",
   "metadata": {},
   "source": [
    "Le termninal s'ouvre et il faudra donc installer quelques librairies :\n",
    "- pip install scipy\n",
    "- pip install sklearn\n",
    "- pip install seaborn\n",
    "- pip install pandas\n",
    "- pip install numpy\n",
    "- pip install matplotlib"
   ]
  },
  {
   "cell_type": "markdown",
   "metadata": {},
   "source": [
    "![title](3.png)"
   ]
  },
  {
   "cell_type": "markdown",
   "metadata": {},
   "source": [
    "Ouverture de Jupyter\n",
    "- Choix du dossier (création possible)\n",
    "- Mon dossier machine_learning contiendra mes notebook et mon dossier dataset ... mes dataset\n",
    "- Clic sur \"nouveau\" en haut à droite puis Python3"
   ]
  },
  {
   "cell_type": "markdown",
   "metadata": {},
   "source": [
    "La page du notebook s'ouvre il est temps de commencer notre initiation.\n",
    "- Nous commencerons par un petit rappel.\n",
    "- Une explication sur le machine learning\n",
    "- Présentation du projet"
   ]
  },
  {
   "cell_type": "code",
   "execution_count": 2,
   "metadata": {},
   "outputs": [],
   "source": [
    "# Importation des librairies pandas et numpy\n",
    "import pandas as pd\n",
    "import numpy as np"
   ]
  },
  {
   "cell_type": "code",
   "execution_count": 3,
   "metadata": {},
   "outputs": [],
   "source": [
    "# Rappel : les \"as\" sont des abréviations pour nous éviter de tout écrire à chaque fois.\n",
    "# Rappel : pour valider : shift + entrée"
   ]
  },
  {
   "cell_type": "markdown",
   "metadata": {},
   "source": [
    "Création d'un tableau Dataframe\n",
    "La variable airbnb recevra via la méthode read_csv de pandas paris_airbnb.csv"
   ]
  },
  {
   "cell_type": "code",
   "execution_count": 4,
   "metadata": {},
   "outputs": [],
   "source": [
    "airbnb = pd.read_csv('dataset/paris_airbnb.csv')"
   ]
  },
  {
   "cell_type": "markdown",
   "metadata": {},
   "source": [
    "Plusieurs choix pour afficher le Dataframe :\n",
    "- airbnb\n",
    "- airbnb[0:10] Affiche moi les lignes 0, 1, 2, 3, 4, 5, 6, 7, 8, 9 Attention ça commence toujours par 0\n",
    "- airbnb.iloc[0:10]\n",
    "- airbnb.head() affiche par défaut les 5 premières lignes\n",
    "- airbnb.tail() affiche les 5 dernières lignes"
   ]
  },
  {
   "cell_type": "code",
   "execution_count": 5,
   "metadata": {},
   "outputs": [
    {
     "data": {
      "text/html": [
       "<div>\n",
       "<style scoped>\n",
       "    .dataframe tbody tr th:only-of-type {\n",
       "        vertical-align: middle;\n",
       "    }\n",
       "\n",
       "    .dataframe tbody tr th {\n",
       "        vertical-align: top;\n",
       "    }\n",
       "\n",
       "    .dataframe thead th {\n",
       "        text-align: right;\n",
       "    }\n",
       "</style>\n",
       "<table border=\"1\" class=\"dataframe\">\n",
       "  <thead>\n",
       "    <tr style=\"text-align: right;\">\n",
       "      <th></th>\n",
       "      <th>host_response_rate</th>\n",
       "      <th>host_acceptance_rate</th>\n",
       "      <th>host_listings_count</th>\n",
       "      <th>latitude</th>\n",
       "      <th>longitude</th>\n",
       "      <th>city</th>\n",
       "      <th>zipcode</th>\n",
       "      <th>state</th>\n",
       "      <th>accommodates</th>\n",
       "      <th>room_type</th>\n",
       "      <th>bedrooms</th>\n",
       "      <th>bathrooms</th>\n",
       "      <th>beds</th>\n",
       "      <th>price</th>\n",
       "      <th>cleaning_fee</th>\n",
       "      <th>security_deposit</th>\n",
       "      <th>minimum_nights</th>\n",
       "      <th>maximum_nights</th>\n",
       "      <th>number_of_reviews</th>\n",
       "    </tr>\n",
       "  </thead>\n",
       "  <tbody>\n",
       "    <tr>\n",
       "      <th>0</th>\n",
       "      <td>100%</td>\n",
       "      <td>NaN</td>\n",
       "      <td>1.0</td>\n",
       "      <td>48.83349</td>\n",
       "      <td>2.31852</td>\n",
       "      <td>Paris</td>\n",
       "      <td>75014</td>\n",
       "      <td>Île-de-France</td>\n",
       "      <td>2</td>\n",
       "      <td>Entire home/apt</td>\n",
       "      <td>0.0</td>\n",
       "      <td>1.0</td>\n",
       "      <td>0.0</td>\n",
       "      <td>$75.00</td>\n",
       "      <td>$50.00</td>\n",
       "      <td>$0.00</td>\n",
       "      <td>3</td>\n",
       "      <td>15</td>\n",
       "      <td>8</td>\n",
       "    </tr>\n",
       "    <tr>\n",
       "      <th>1</th>\n",
       "      <td>100%</td>\n",
       "      <td>NaN</td>\n",
       "      <td>1.0</td>\n",
       "      <td>48.85100</td>\n",
       "      <td>2.35869</td>\n",
       "      <td>Paris</td>\n",
       "      <td>75004</td>\n",
       "      <td>Ile-de-France</td>\n",
       "      <td>2</td>\n",
       "      <td>Entire home/apt</td>\n",
       "      <td>0.0</td>\n",
       "      <td>1.0</td>\n",
       "      <td>1.0</td>\n",
       "      <td>$115.00</td>\n",
       "      <td>$36.00</td>\n",
       "      <td>$0.00</td>\n",
       "      <td>1</td>\n",
       "      <td>90</td>\n",
       "      <td>173</td>\n",
       "    </tr>\n",
       "    <tr>\n",
       "      <th>2</th>\n",
       "      <td>100%</td>\n",
       "      <td>NaN</td>\n",
       "      <td>2.0</td>\n",
       "      <td>48.85758</td>\n",
       "      <td>2.35275</td>\n",
       "      <td>Paris</td>\n",
       "      <td>75004</td>\n",
       "      <td>Île-de-France</td>\n",
       "      <td>4</td>\n",
       "      <td>Entire home/apt</td>\n",
       "      <td>2.0</td>\n",
       "      <td>1.0</td>\n",
       "      <td>2.0</td>\n",
       "      <td>$115.00</td>\n",
       "      <td>$50.00</td>\n",
       "      <td>$200.00</td>\n",
       "      <td>10</td>\n",
       "      <td>23</td>\n",
       "      <td>243</td>\n",
       "    </tr>\n",
       "    <tr>\n",
       "      <th>3</th>\n",
       "      <td>100%</td>\n",
       "      <td>NaN</td>\n",
       "      <td>1.0</td>\n",
       "      <td>48.86528</td>\n",
       "      <td>2.39326</td>\n",
       "      <td>Paris</td>\n",
       "      <td>75020</td>\n",
       "      <td>Ile-de-France</td>\n",
       "      <td>3</td>\n",
       "      <td>Entire home/apt</td>\n",
       "      <td>1.0</td>\n",
       "      <td>1.0</td>\n",
       "      <td>1.0</td>\n",
       "      <td>$90.00</td>\n",
       "      <td>NaN</td>\n",
       "      <td>NaN</td>\n",
       "      <td>3</td>\n",
       "      <td>365</td>\n",
       "      <td>1</td>\n",
       "    </tr>\n",
       "    <tr>\n",
       "      <th>4</th>\n",
       "      <td>67%</td>\n",
       "      <td>NaN</td>\n",
       "      <td>3.0</td>\n",
       "      <td>48.85899</td>\n",
       "      <td>2.34735</td>\n",
       "      <td>Paris</td>\n",
       "      <td>75001</td>\n",
       "      <td>Île-de-France</td>\n",
       "      <td>2</td>\n",
       "      <td>Entire home/apt</td>\n",
       "      <td>1.0</td>\n",
       "      <td>1.0</td>\n",
       "      <td>1.0</td>\n",
       "      <td>$75.00</td>\n",
       "      <td>$200.00</td>\n",
       "      <td>$1,500.00</td>\n",
       "      <td>180</td>\n",
       "      <td>365</td>\n",
       "      <td>0</td>\n",
       "    </tr>\n",
       "    <tr>\n",
       "      <th>5</th>\n",
       "      <td>100%</td>\n",
       "      <td>NaN</td>\n",
       "      <td>1.0</td>\n",
       "      <td>48.86227</td>\n",
       "      <td>2.37134</td>\n",
       "      <td>Paris</td>\n",
       "      <td>75011</td>\n",
       "      <td>Ile-de-France</td>\n",
       "      <td>2</td>\n",
       "      <td>Entire home/apt</td>\n",
       "      <td>1.0</td>\n",
       "      <td>1.0</td>\n",
       "      <td>1.0</td>\n",
       "      <td>$75.00</td>\n",
       "      <td>$20.00</td>\n",
       "      <td>$250.00</td>\n",
       "      <td>5</td>\n",
       "      <td>120</td>\n",
       "      <td>17</td>\n",
       "    </tr>\n",
       "    <tr>\n",
       "      <th>6</th>\n",
       "      <td>NaN</td>\n",
       "      <td>NaN</td>\n",
       "      <td>4.0</td>\n",
       "      <td>48.88902</td>\n",
       "      <td>2.34656</td>\n",
       "      <td>Paris</td>\n",
       "      <td>75018</td>\n",
       "      <td>Ile-de-France</td>\n",
       "      <td>4</td>\n",
       "      <td>Entire home/apt</td>\n",
       "      <td>NaN</td>\n",
       "      <td>1.0</td>\n",
       "      <td>1.0</td>\n",
       "      <td>$80.00</td>\n",
       "      <td>$36.00</td>\n",
       "      <td>$800.00</td>\n",
       "      <td>90</td>\n",
       "      <td>730</td>\n",
       "      <td>42</td>\n",
       "    </tr>\n",
       "    <tr>\n",
       "      <th>7</th>\n",
       "      <td>NaN</td>\n",
       "      <td>NaN</td>\n",
       "      <td>4.0</td>\n",
       "      <td>48.88918</td>\n",
       "      <td>2.34490</td>\n",
       "      <td>Paris</td>\n",
       "      <td>75018</td>\n",
       "      <td>Ile-de-France</td>\n",
       "      <td>3</td>\n",
       "      <td>Entire home/apt</td>\n",
       "      <td>NaN</td>\n",
       "      <td>1.0</td>\n",
       "      <td>1.0</td>\n",
       "      <td>$75.00</td>\n",
       "      <td>NaN</td>\n",
       "      <td>$400.00</td>\n",
       "      <td>30</td>\n",
       "      <td>730</td>\n",
       "      <td>16</td>\n",
       "    </tr>\n",
       "    <tr>\n",
       "      <th>8</th>\n",
       "      <td>100%</td>\n",
       "      <td>NaN</td>\n",
       "      <td>1.0</td>\n",
       "      <td>48.87900</td>\n",
       "      <td>2.31608</td>\n",
       "      <td>Paris</td>\n",
       "      <td>75008</td>\n",
       "      <td>Ile-de-France</td>\n",
       "      <td>4</td>\n",
       "      <td>Entire home/apt</td>\n",
       "      <td>1.0</td>\n",
       "      <td>1.0</td>\n",
       "      <td>2.0</td>\n",
       "      <td>$90.00</td>\n",
       "      <td>$60.00</td>\n",
       "      <td>$600.00</td>\n",
       "      <td>3</td>\n",
       "      <td>730</td>\n",
       "      <td>40</td>\n",
       "    </tr>\n",
       "    <tr>\n",
       "      <th>9</th>\n",
       "      <td>100%</td>\n",
       "      <td>NaN</td>\n",
       "      <td>2.0</td>\n",
       "      <td>48.84670</td>\n",
       "      <td>2.35095</td>\n",
       "      <td>Paris</td>\n",
       "      <td>75005</td>\n",
       "      <td>Île-de-France</td>\n",
       "      <td>2</td>\n",
       "      <td>Entire home/apt</td>\n",
       "      <td>0.0</td>\n",
       "      <td>1.0</td>\n",
       "      <td>1.0</td>\n",
       "      <td>$75.00</td>\n",
       "      <td>NaN</td>\n",
       "      <td>NaN</td>\n",
       "      <td>2</td>\n",
       "      <td>1125</td>\n",
       "      <td>336</td>\n",
       "    </tr>\n",
       "  </tbody>\n",
       "</table>\n",
       "</div>"
      ],
      "text/plain": [
       "  host_response_rate  host_acceptance_rate  host_listings_count  latitude  \\\n",
       "0               100%                   NaN                  1.0  48.83349   \n",
       "1               100%                   NaN                  1.0  48.85100   \n",
       "2               100%                   NaN                  2.0  48.85758   \n",
       "3               100%                   NaN                  1.0  48.86528   \n",
       "4                67%                   NaN                  3.0  48.85899   \n",
       "5               100%                   NaN                  1.0  48.86227   \n",
       "6                NaN                   NaN                  4.0  48.88902   \n",
       "7                NaN                   NaN                  4.0  48.88918   \n",
       "8               100%                   NaN                  1.0  48.87900   \n",
       "9               100%                   NaN                  2.0  48.84670   \n",
       "\n",
       "   longitude   city zipcode          state  accommodates        room_type  \\\n",
       "0    2.31852  Paris   75014  Île-de-France             2  Entire home/apt   \n",
       "1    2.35869  Paris   75004  Ile-de-France             2  Entire home/apt   \n",
       "2    2.35275  Paris   75004  Île-de-France             4  Entire home/apt   \n",
       "3    2.39326  Paris   75020  Ile-de-France             3  Entire home/apt   \n",
       "4    2.34735  Paris   75001  Île-de-France             2  Entire home/apt   \n",
       "5    2.37134  Paris   75011  Ile-de-France             2  Entire home/apt   \n",
       "6    2.34656  Paris   75018  Ile-de-France             4  Entire home/apt   \n",
       "7    2.34490  Paris   75018  Ile-de-France             3  Entire home/apt   \n",
       "8    2.31608  Paris   75008  Ile-de-France             4  Entire home/apt   \n",
       "9    2.35095  Paris   75005  Île-de-France             2  Entire home/apt   \n",
       "\n",
       "   bedrooms  bathrooms  beds    price cleaning_fee security_deposit  \\\n",
       "0       0.0        1.0   0.0   $75.00       $50.00            $0.00   \n",
       "1       0.0        1.0   1.0  $115.00       $36.00            $0.00   \n",
       "2       2.0        1.0   2.0  $115.00       $50.00          $200.00   \n",
       "3       1.0        1.0   1.0   $90.00          NaN              NaN   \n",
       "4       1.0        1.0   1.0   $75.00      $200.00        $1,500.00   \n",
       "5       1.0        1.0   1.0   $75.00       $20.00          $250.00   \n",
       "6       NaN        1.0   1.0   $80.00       $36.00          $800.00   \n",
       "7       NaN        1.0   1.0   $75.00          NaN          $400.00   \n",
       "8       1.0        1.0   2.0   $90.00       $60.00          $600.00   \n",
       "9       0.0        1.0   1.0   $75.00          NaN              NaN   \n",
       "\n",
       "   minimum_nights  maximum_nights  number_of_reviews  \n",
       "0               3              15                  8  \n",
       "1               1              90                173  \n",
       "2              10              23                243  \n",
       "3               3             365                  1  \n",
       "4             180             365                  0  \n",
       "5               5             120                 17  \n",
       "6              90             730                 42  \n",
       "7              30             730                 16  \n",
       "8               3             730                 40  \n",
       "9               2            1125                336  "
      ]
     },
     "execution_count": 5,
     "metadata": {},
     "output_type": "execute_result"
    }
   ],
   "source": [
    "# exemple :\n",
    "airbnb.head(10)\n",
    "# affichage des 10 lignes"
   ]
  },
  {
   "cell_type": "markdown",
   "metadata": {},
   "source": [
    "Pour afficher les informations de Dataframe :\n",
    "- dataframe.info()"
   ]
  },
  {
   "cell_type": "code",
   "execution_count": 6,
   "metadata": {},
   "outputs": [
    {
     "name": "stdout",
     "output_type": "stream",
     "text": [
      "<class 'pandas.core.frame.DataFrame'>\n",
      "RangeIndex: 8000 entries, 0 to 7999\n",
      "Data columns (total 19 columns):\n",
      " #   Column                Non-Null Count  Dtype  \n",
      "---  ------                --------------  -----  \n",
      " 0   host_response_rate    5000 non-null   object \n",
      " 1   host_acceptance_rate  0 non-null      float64\n",
      " 2   host_listings_count   7999 non-null   float64\n",
      " 3   latitude              8000 non-null   float64\n",
      " 4   longitude             8000 non-null   float64\n",
      " 5   city                  7997 non-null   object \n",
      " 6   zipcode               7930 non-null   object \n",
      " 7   state                 7977 non-null   object \n",
      " 8   accommodates          8000 non-null   int64  \n",
      " 9   room_type             8000 non-null   object \n",
      " 10  bedrooms              7976 non-null   float64\n",
      " 11  bathrooms             7942 non-null   float64\n",
      " 12  beds                  7986 non-null   float64\n",
      " 13  price                 8000 non-null   object \n",
      " 14  cleaning_fee          6250 non-null   object \n",
      " 15  security_deposit      6320 non-null   object \n",
      " 16  minimum_nights        8000 non-null   int64  \n",
      " 17  maximum_nights        8000 non-null   int64  \n",
      " 18  number_of_reviews     8000 non-null   int64  \n",
      "dtypes: float64(7), int64(4), object(8)\n",
      "memory usage: 1.2+ MB\n"
     ]
    }
   ],
   "source": [
    "# exemple :\n",
    "airbnb.info()"
   ]
  },
  {
   "cell_type": "markdown",
   "metadata": {},
   "source": [
    "Regardons les informations : \n",
    "- 18 colonnes donc 18 object series \n",
    "- column : le nom des colonnes\n",
    "- non-null count : nombre de valeurs non null \n",
    "- Dtype : type "
   ]
  },
  {
   "cell_type": "markdown",
   "metadata": {},
   "source": [
    "#### Nous venons de voir des fonctions qui s'appliquent à un Dataframe mais il existe aussi des fonctions pour les objects series."
   ]
  },
  {
   "cell_type": "markdown",
   "metadata": {},
   "source": [
    "Un object series est une sorte de liste ou de vecteur (une colonne du Dataframe). Par exemple airbnb['beds'] affichera un object series (la colonne beds)"
   ]
  },
  {
   "cell_type": "code",
   "execution_count": 7,
   "metadata": {},
   "outputs": [
    {
     "data": {
      "text/plain": [
       "0       0.0\n",
       "1       1.0\n",
       "2       2.0\n",
       "3       1.0\n",
       "4       1.0\n",
       "       ... \n",
       "7995    1.0\n",
       "7996    2.0\n",
       "7997    1.0\n",
       "7998    1.0\n",
       "7999    3.0\n",
       "Name: beds, Length: 8000, dtype: float64"
      ]
     },
     "execution_count": 7,
     "metadata": {},
     "output_type": "execute_result"
    }
   ],
   "source": [
    "airbnb['beds']"
   ]
  },
  {
   "cell_type": "code",
   "execution_count": 8,
   "metadata": {},
   "outputs": [
    {
     "data": {
      "text/plain": [
       "pandas.core.series.Series"
      ]
     },
     "execution_count": 8,
     "metadata": {},
     "output_type": "execute_result"
    }
   ],
   "source": [
    "# Pour être sur et certain\n",
    "type(airbnb['beds'])"
   ]
  },
  {
   "cell_type": "code",
   "execution_count": 9,
   "metadata": {},
   "outputs": [
    {
     "data": {
      "text/html": [
       "<div>\n",
       "<style scoped>\n",
       "    .dataframe tbody tr th:only-of-type {\n",
       "        vertical-align: middle;\n",
       "    }\n",
       "\n",
       "    .dataframe tbody tr th {\n",
       "        vertical-align: top;\n",
       "    }\n",
       "\n",
       "    .dataframe thead th {\n",
       "        text-align: right;\n",
       "    }\n",
       "</style>\n",
       "<table border=\"1\" class=\"dataframe\">\n",
       "  <thead>\n",
       "    <tr style=\"text-align: right;\">\n",
       "      <th></th>\n",
       "      <th>beds</th>\n",
       "      <th>bedrooms</th>\n",
       "    </tr>\n",
       "  </thead>\n",
       "  <tbody>\n",
       "    <tr>\n",
       "      <th>0</th>\n",
       "      <td>0.0</td>\n",
       "      <td>0.0</td>\n",
       "    </tr>\n",
       "    <tr>\n",
       "      <th>1</th>\n",
       "      <td>1.0</td>\n",
       "      <td>0.0</td>\n",
       "    </tr>\n",
       "    <tr>\n",
       "      <th>2</th>\n",
       "      <td>2.0</td>\n",
       "      <td>2.0</td>\n",
       "    </tr>\n",
       "    <tr>\n",
       "      <th>3</th>\n",
       "      <td>1.0</td>\n",
       "      <td>1.0</td>\n",
       "    </tr>\n",
       "    <tr>\n",
       "      <th>4</th>\n",
       "      <td>1.0</td>\n",
       "      <td>1.0</td>\n",
       "    </tr>\n",
       "    <tr>\n",
       "      <th>...</th>\n",
       "      <td>...</td>\n",
       "      <td>...</td>\n",
       "    </tr>\n",
       "    <tr>\n",
       "      <th>7995</th>\n",
       "      <td>1.0</td>\n",
       "      <td>0.0</td>\n",
       "    </tr>\n",
       "    <tr>\n",
       "      <th>7996</th>\n",
       "      <td>2.0</td>\n",
       "      <td>1.0</td>\n",
       "    </tr>\n",
       "    <tr>\n",
       "      <th>7997</th>\n",
       "      <td>1.0</td>\n",
       "      <td>1.0</td>\n",
       "    </tr>\n",
       "    <tr>\n",
       "      <th>7998</th>\n",
       "      <td>1.0</td>\n",
       "      <td>NaN</td>\n",
       "    </tr>\n",
       "    <tr>\n",
       "      <th>7999</th>\n",
       "      <td>3.0</td>\n",
       "      <td>1.0</td>\n",
       "    </tr>\n",
       "  </tbody>\n",
       "</table>\n",
       "<p>8000 rows × 2 columns</p>\n",
       "</div>"
      ],
      "text/plain": [
       "      beds  bedrooms\n",
       "0      0.0       0.0\n",
       "1      1.0       0.0\n",
       "2      2.0       2.0\n",
       "3      1.0       1.0\n",
       "4      1.0       1.0\n",
       "...    ...       ...\n",
       "7995   1.0       0.0\n",
       "7996   2.0       1.0\n",
       "7997   1.0       1.0\n",
       "7998   1.0       NaN\n",
       "7999   3.0       1.0\n",
       "\n",
       "[8000 rows x 2 columns]"
      ]
     },
     "execution_count": 9,
     "metadata": {},
     "output_type": "execute_result"
    }
   ],
   "source": [
    "# Sélection de deux colonnes\n",
    "airbnb[['beds', 'bedrooms']]"
   ]
  },
  {
   "cell_type": "code",
   "execution_count": 10,
   "metadata": {},
   "outputs": [
    {
     "data": {
      "text/plain": [
       "pandas.core.frame.DataFrame"
      ]
     },
     "execution_count": 10,
     "metadata": {},
     "output_type": "execute_result"
    }
   ],
   "source": [
    "# nouvelle vérification\n",
    "type(airbnb[['beds', 'bedrooms']])"
   ]
  },
  {
   "cell_type": "markdown",
   "metadata": {},
   "source": [
    "Ici il s'agit d'un Dataframe et non d'un object series, pourquoi ? il y a deux colonnes"
   ]
  },
  {
   "cell_type": "code",
   "execution_count": 11,
   "metadata": {},
   "outputs": [
    {
     "data": {
      "text/plain": [
       "beds        1.753068\n",
       "bedrooms    1.248370\n",
       "dtype: float64"
      ]
     },
     "execution_count": 11,
     "metadata": {},
     "output_type": "execute_result"
    }
   ],
   "source": [
    "# Pour calculer la moyenne de lits et de chambres pour un Dataframe.\n",
    "airbnb[['beds', 'bedrooms']].mean()"
   ]
  },
  {
   "cell_type": "markdown",
   "metadata": {},
   "source": [
    "##### Attention pour un object series il faut utiliser numpy"
   ]
  },
  {
   "cell_type": "code",
   "execution_count": 12,
   "metadata": {},
   "outputs": [
    {
     "data": {
      "text/plain": [
       "1.753067868770348"
      ]
     },
     "execution_count": 12,
     "metadata": {},
     "output_type": "execute_result"
    }
   ],
   "source": [
    "np.mean(airbnb['beds'])"
   ]
  },
  {
   "cell_type": "markdown",
   "metadata": {},
   "source": [
    "### Concept de boucle"
   ]
  },
  {
   "cell_type": "markdown",
   "metadata": {},
   "source": [
    "Nous allons chercher les colonnes qui sont de types float avec l'attribut .columns qui nous retournera le nom des colonnes. L'attribut to_list() lui nous retournera une liste de toutes les colonnes."
   ]
  },
  {
   "cell_type": "code",
   "execution_count": 13,
   "metadata": {},
   "outputs": [],
   "source": [
    "airbnb_cols = airbnb.select_dtypes(include=['float']).columns.to_list()"
   ]
  },
  {
   "cell_type": "code",
   "execution_count": 14,
   "metadata": {},
   "outputs": [
    {
     "data": {
      "text/plain": [
       "['host_acceptance_rate',\n",
       " 'host_listings_count',\n",
       " 'latitude',\n",
       " 'longitude',\n",
       " 'bedrooms',\n",
       " 'bathrooms',\n",
       " 'beds']"
      ]
     },
     "execution_count": 14,
     "metadata": {},
     "output_type": "execute_result"
    }
   ],
   "source": [
    "airbnb_cols"
   ]
  },
  {
   "cell_type": "markdown",
   "metadata": {},
   "source": [
    "Nous avons donc une liste des colonnes qui sont de types \"float\""
   ]
  },
  {
   "cell_type": "code",
   "execution_count": 15,
   "metadata": {},
   "outputs": [
    {
     "name": "stdout",
     "output_type": "stream",
     "text": [
      "host_acceptance_rate\n",
      "host_listings_count\n",
      "latitude\n",
      "longitude\n",
      "bedrooms\n",
      "bathrooms\n",
      "beds\n"
     ]
    }
   ],
   "source": [
    "# Commençons la boucle :\n",
    "\n",
    "for col in airbnb_cols:\n",
    "    print(col)"
   ]
  },
  {
   "cell_type": "markdown",
   "metadata": {},
   "source": [
    "col est une variable itératrice, nous pouvons la remplacer par i, x, y ... presque ce que vous voulez. Au final il faut juste du bon sens."
   ]
  },
  {
   "cell_type": "markdown",
   "metadata": {},
   "source": [
    "Au premier passage de col, il vaudra host_acceptance, ensuite col vaudra host_listings_count ... etc etc "
   ]
  },
  {
   "cell_type": "code",
   "execution_count": 21,
   "metadata": {},
   "outputs": [
    {
     "name": "stdout",
     "output_type": "stream",
     "text": [
      "moyenne de la colonne host_acceptance_rate. nan\n",
      "moyenne de la colonne host_listings_count. 7.025878234779348\n",
      "moyenne de la colonne latitude. 48.86456040249989\n",
      "moyenne de la colonne longitude. 2.3487392574999952\n",
      "moyenne de la colonne bedrooms. 1.248370110330993\n",
      "moyenne de la colonne bathrooms. 1.12849408209519\n",
      "moyenne de la colonne beds. 1.753067868770348\n"
     ]
    }
   ],
   "source": [
    "for col in airbnb_cols:\n",
    "    calc_mean = np.mean(airbnb[col])\n",
    "    print('moyenne de la colonne ' + col + '.', calc_mean)"
   ]
  },
  {
   "cell_type": "markdown",
   "metadata": {},
   "source": [
    "Nous affichons via le \"print\" moyenne de la colonne \"col\" (col est la variable itératrice qui nous donne les noms des colonnes). La variable calc_mean donne comme résultat la moyenne via la fonction mean() de numpy (np chez nous) La moyenne des colonnes \"col\" de airbnb_cols mais cette fois ci dans airbnb."
   ]
  },
  {
   "cell_type": "markdown",
   "metadata": {},
   "source": [
    "### Concept de fonction "
   ]
  },
  {
   "cell_type": "code",
   "execution_count": 24,
   "metadata": {},
   "outputs": [],
   "source": [
    "def split_func(df):\n",
    "    return 0\n",
    "\n",
    "# La fonction se nome split_func et elle attend un Dataframe en argument. Cette dernière doit retourner 0 dans ce cas"
   ]
  },
  {
   "cell_type": "code",
   "execution_count": 25,
   "metadata": {},
   "outputs": [],
   "source": [
    "# Création d'une fonction qui va séparer notre Dataframe en deux moitiés égales.\n",
    "\n",
    "def split_func(df):\n",
    "    df1 = df.loc[0:len(df)/2]\n",
    "    # Dataframe.loc : Accédez à un groupe de lignes et de colonnes par libellé(s) ou par un tableau booléen.\n",
    "    # [de 0 : à la longueur de df divisé par deux]\n",
    "    df2 = df.loc[len(df)/2:]\n",
    "    # celui-ci prendra de la moitié jusqu'a la fin du Dataframe\n",
    "    return(df1, df2)"
   ]
  },
  {
   "cell_type": "code",
   "execution_count": 26,
   "metadata": {},
   "outputs": [],
   "source": [
    "df1, df2 = split_func(airbnb)\n",
    "# cela fonctionne également avec : airbnb1, airbnb2 = split_func(airbnb)"
   ]
  },
  {
   "cell_type": "code",
   "execution_count": 30,
   "metadata": {},
   "outputs": [
    {
     "data": {
      "text/plain": [
       "<bound method DataFrame.info of      host_response_rate  host_acceptance_rate  host_listings_count  latitude  \\\n",
       "0                  100%                   NaN                  1.0  48.83349   \n",
       "1                  100%                   NaN                  1.0  48.85100   \n",
       "2                  100%                   NaN                  2.0  48.85758   \n",
       "3                  100%                   NaN                  1.0  48.86528   \n",
       "4                   67%                   NaN                  3.0  48.85899   \n",
       "...                 ...                   ...                  ...       ...   \n",
       "3996               100%                   NaN                  1.0  48.86093   \n",
       "3997               100%                   NaN                  1.0  48.88039   \n",
       "3998               100%                   NaN                  1.0  48.86778   \n",
       "3999               100%                   NaN                  1.0  48.87586   \n",
       "4000               100%                   NaN                  1.0  48.85124   \n",
       "\n",
       "      longitude   city zipcode          state  accommodates        room_type  \\\n",
       "0       2.31852  Paris   75014  Île-de-France             2  Entire home/apt   \n",
       "1       2.35869  Paris   75004  Ile-de-France             2  Entire home/apt   \n",
       "2       2.35275  Paris   75004  Île-de-France             4  Entire home/apt   \n",
       "3       2.39326  Paris   75020  Ile-de-France             3  Entire home/apt   \n",
       "4       2.34735  Paris   75001  Île-de-France             2  Entire home/apt   \n",
       "...         ...    ...     ...            ...           ...              ...   \n",
       "3996    2.38461  Paris   75011  Île-de-France             2  Entire home/apt   \n",
       "3997    2.36356  Paris   75010  Île-de-France             2  Entire home/apt   \n",
       "3998    2.39172  Paris   75020  Île-de-France             2  Entire home/apt   \n",
       "3999    2.37266  Paris   75010  Île-de-France             4  Entire home/apt   \n",
       "4000    2.34941  Paris   75005  Île-de-France             3  Entire home/apt   \n",
       "\n",
       "      bedrooms  bathrooms  beds    price cleaning_fee security_deposit  \\\n",
       "0          0.0        1.0   0.0   $75.00       $50.00            $0.00   \n",
       "1          0.0        1.0   1.0  $115.00       $36.00            $0.00   \n",
       "2          2.0        1.0   2.0  $115.00       $50.00          $200.00   \n",
       "3          1.0        1.0   1.0   $90.00          NaN              NaN   \n",
       "4          1.0        1.0   1.0   $75.00      $200.00        $1,500.00   \n",
       "...        ...        ...   ...      ...          ...              ...   \n",
       "3996       1.0        1.0   1.0   $50.00       $30.00          $200.00   \n",
       "3997       1.0        1.0   1.0   $59.00          NaN          $100.00   \n",
       "3998       1.0        1.0   2.0   $50.00        $5.00            $0.00   \n",
       "3999       1.0        1.0   2.0   $68.00       $45.00          $200.00   \n",
       "4000       0.0        1.0   3.0   $69.00       $20.00          $300.00   \n",
       "\n",
       "      minimum_nights  maximum_nights  number_of_reviews  \n",
       "0                  3              15                  8  \n",
       "1                  1              90                173  \n",
       "2                 10              23                243  \n",
       "3                  3             365                  1  \n",
       "4                180             365                  0  \n",
       "...              ...             ...                ...  \n",
       "3996              90            1124                 18  \n",
       "3997               4              14                 10  \n",
       "3998               1              14                  8  \n",
       "3999               3            1125                 70  \n",
       "4000               3              31                243  \n",
       "\n",
       "[4001 rows x 19 columns]>"
      ]
     },
     "execution_count": 30,
     "metadata": {},
     "output_type": "execute_result"
    }
   ],
   "source": [
    "df1.info\n",
    "# airbnb1.info"
   ]
  },
  {
   "cell_type": "code",
   "execution_count": 31,
   "metadata": {},
   "outputs": [
    {
     "data": {
      "text/plain": [
       "<bound method DataFrame.info of      host_response_rate  host_acceptance_rate  host_listings_count  latitude  \\\n",
       "4000               100%                   NaN                  1.0  48.85124   \n",
       "4001                79%                   NaN                  2.0  48.85128   \n",
       "4002               100%                   NaN                  2.0  48.84845   \n",
       "4003                NaN                   NaN                  1.0  48.84287   \n",
       "4004                NaN                   NaN                  1.0  48.87915   \n",
       "...                 ...                   ...                  ...       ...   \n",
       "7995               100%                   NaN                  2.0  48.87901   \n",
       "7996                NaN                   NaN                  1.0  48.88903   \n",
       "7997               100%                   NaN                  1.0  48.85313   \n",
       "7998                NaN                   NaN                  1.0  48.88066   \n",
       "7999               100%                   NaN                  2.0  48.85760   \n",
       "\n",
       "      longitude   city zipcode          state  accommodates        room_type  \\\n",
       "4000    2.34941  Paris   75005  Île-de-France             3  Entire home/apt   \n",
       "4001    2.38729  Paris   75011  Île-de-France             5  Entire home/apt   \n",
       "4002    2.31757  Paris   75007  Île-de-France             2  Entire home/apt   \n",
       "4003    2.30827  Paris   75015  Île-de-France             1     Private room   \n",
       "4004    2.29128  Paris   75017  Île-de-France             2  Entire home/apt   \n",
       "...         ...    ...     ...            ...           ...              ...   \n",
       "7995    2.29526  Paris   75017  Île-de-France             2  Entire home/apt   \n",
       "7996    2.35271  Paris   75018  Île-de-France             4  Entire home/apt   \n",
       "7997    2.34146  Paris   75006  Île-de-France             2  Entire home/apt   \n",
       "7998    2.33639  Paris   75009  Île-de-France             2  Entire home/apt   \n",
       "7999    2.39946  Paris   75020  Île-de-France             6  Entire home/apt   \n",
       "\n",
       "      bedrooms  bathrooms  beds    price cleaning_fee security_deposit  \\\n",
       "4000       0.0        1.0   3.0   $69.00       $20.00          $300.00   \n",
       "4001       2.0        1.5   2.0  $114.00       $30.00          $800.00   \n",
       "4002       1.0        1.0   1.0  $230.00       $30.00          $500.00   \n",
       "4003       1.0        1.0   1.0   $40.00        $7.00              NaN   \n",
       "4004       0.0        1.0   1.0   $88.00          NaN              NaN   \n",
       "...        ...        ...   ...      ...          ...              ...   \n",
       "7995       0.0        1.0   1.0   $55.00       $45.00          $400.00   \n",
       "7996       1.0        1.0   2.0   $60.00       $20.00          $100.00   \n",
       "7997       1.0        1.0   1.0   $60.00       $30.00            $0.00   \n",
       "7998       NaN        1.0   1.0   $58.00          NaN          $200.00   \n",
       "7999       1.0        1.0   3.0   $40.00       $35.00          $300.00   \n",
       "\n",
       "      minimum_nights  maximum_nights  number_of_reviews  \n",
       "4000               3              31                243  \n",
       "4001               2            1125                 68  \n",
       "4002               3              40                  3  \n",
       "4003               1            1125                  2  \n",
       "4004               2            1125                 12  \n",
       "...              ...             ...                ...  \n",
       "7995             150            1125                  0  \n",
       "7996               3            1125                  4  \n",
       "7997               2              10                 25  \n",
       "7998               3               9                 57  \n",
       "7999               4            1125                 49  \n",
       "\n",
       "[4000 rows x 19 columns]>"
      ]
     },
     "execution_count": 31,
     "metadata": {},
     "output_type": "execute_result"
    }
   ],
   "source": [
    "df2.info"
   ]
  },
  {
   "cell_type": "markdown",
   "metadata": {},
   "source": [
    "Nous remarquons bien que df1 est la première moitié du Dataframe, df2 la seconde."
   ]
  },
  {
   "cell_type": "code",
   "execution_count": 32,
   "metadata": {},
   "outputs": [
    {
     "data": {
      "text/html": [
       "<div>\n",
       "<style scoped>\n",
       "    .dataframe tbody tr th:only-of-type {\n",
       "        vertical-align: middle;\n",
       "    }\n",
       "\n",
       "    .dataframe tbody tr th {\n",
       "        vertical-align: top;\n",
       "    }\n",
       "\n",
       "    .dataframe thead th {\n",
       "        text-align: right;\n",
       "    }\n",
       "</style>\n",
       "<table border=\"1\" class=\"dataframe\">\n",
       "  <thead>\n",
       "    <tr style=\"text-align: right;\">\n",
       "      <th></th>\n",
       "      <th>host_acceptance_rate</th>\n",
       "      <th>host_listings_count</th>\n",
       "      <th>latitude</th>\n",
       "      <th>longitude</th>\n",
       "      <th>bedrooms</th>\n",
       "      <th>bathrooms</th>\n",
       "      <th>beds</th>\n",
       "    </tr>\n",
       "  </thead>\n",
       "  <tbody>\n",
       "    <tr>\n",
       "      <th>0</th>\n",
       "      <td>NaN</td>\n",
       "      <td>101.0</td>\n",
       "      <td>148.83349</td>\n",
       "      <td>102.31852</td>\n",
       "      <td>100.0</td>\n",
       "      <td>101.0</td>\n",
       "      <td>100.0</td>\n",
       "    </tr>\n",
       "    <tr>\n",
       "      <th>1</th>\n",
       "      <td>NaN</td>\n",
       "      <td>101.0</td>\n",
       "      <td>148.85100</td>\n",
       "      <td>102.35869</td>\n",
       "      <td>100.0</td>\n",
       "      <td>101.0</td>\n",
       "      <td>101.0</td>\n",
       "    </tr>\n",
       "    <tr>\n",
       "      <th>2</th>\n",
       "      <td>NaN</td>\n",
       "      <td>102.0</td>\n",
       "      <td>148.85758</td>\n",
       "      <td>102.35275</td>\n",
       "      <td>102.0</td>\n",
       "      <td>101.0</td>\n",
       "      <td>102.0</td>\n",
       "    </tr>\n",
       "    <tr>\n",
       "      <th>3</th>\n",
       "      <td>NaN</td>\n",
       "      <td>101.0</td>\n",
       "      <td>148.86528</td>\n",
       "      <td>102.39326</td>\n",
       "      <td>101.0</td>\n",
       "      <td>101.0</td>\n",
       "      <td>101.0</td>\n",
       "    </tr>\n",
       "    <tr>\n",
       "      <th>4</th>\n",
       "      <td>NaN</td>\n",
       "      <td>103.0</td>\n",
       "      <td>148.85899</td>\n",
       "      <td>102.34735</td>\n",
       "      <td>101.0</td>\n",
       "      <td>101.0</td>\n",
       "      <td>101.0</td>\n",
       "    </tr>\n",
       "    <tr>\n",
       "      <th>...</th>\n",
       "      <td>...</td>\n",
       "      <td>...</td>\n",
       "      <td>...</td>\n",
       "      <td>...</td>\n",
       "      <td>...</td>\n",
       "      <td>...</td>\n",
       "      <td>...</td>\n",
       "    </tr>\n",
       "    <tr>\n",
       "      <th>7995</th>\n",
       "      <td>NaN</td>\n",
       "      <td>102.0</td>\n",
       "      <td>148.87901</td>\n",
       "      <td>102.29526</td>\n",
       "      <td>100.0</td>\n",
       "      <td>101.0</td>\n",
       "      <td>101.0</td>\n",
       "    </tr>\n",
       "    <tr>\n",
       "      <th>7996</th>\n",
       "      <td>NaN</td>\n",
       "      <td>101.0</td>\n",
       "      <td>148.88903</td>\n",
       "      <td>102.35271</td>\n",
       "      <td>101.0</td>\n",
       "      <td>101.0</td>\n",
       "      <td>102.0</td>\n",
       "    </tr>\n",
       "    <tr>\n",
       "      <th>7997</th>\n",
       "      <td>NaN</td>\n",
       "      <td>101.0</td>\n",
       "      <td>148.85313</td>\n",
       "      <td>102.34146</td>\n",
       "      <td>101.0</td>\n",
       "      <td>101.0</td>\n",
       "      <td>101.0</td>\n",
       "    </tr>\n",
       "    <tr>\n",
       "      <th>7998</th>\n",
       "      <td>NaN</td>\n",
       "      <td>101.0</td>\n",
       "      <td>148.88066</td>\n",
       "      <td>102.33639</td>\n",
       "      <td>NaN</td>\n",
       "      <td>101.0</td>\n",
       "      <td>101.0</td>\n",
       "    </tr>\n",
       "    <tr>\n",
       "      <th>7999</th>\n",
       "      <td>NaN</td>\n",
       "      <td>102.0</td>\n",
       "      <td>148.85760</td>\n",
       "      <td>102.39946</td>\n",
       "      <td>101.0</td>\n",
       "      <td>101.0</td>\n",
       "      <td>103.0</td>\n",
       "    </tr>\n",
       "  </tbody>\n",
       "</table>\n",
       "<p>8000 rows × 7 columns</p>\n",
       "</div>"
      ],
      "text/plain": [
       "      host_acceptance_rate  host_listings_count   latitude  longitude  \\\n",
       "0                      NaN                101.0  148.83349  102.31852   \n",
       "1                      NaN                101.0  148.85100  102.35869   \n",
       "2                      NaN                102.0  148.85758  102.35275   \n",
       "3                      NaN                101.0  148.86528  102.39326   \n",
       "4                      NaN                103.0  148.85899  102.34735   \n",
       "...                    ...                  ...        ...        ...   \n",
       "7995                   NaN                102.0  148.87901  102.29526   \n",
       "7996                   NaN                101.0  148.88903  102.35271   \n",
       "7997                   NaN                101.0  148.85313  102.34146   \n",
       "7998                   NaN                101.0  148.88066  102.33639   \n",
       "7999                   NaN                102.0  148.85760  102.39946   \n",
       "\n",
       "      bedrooms  bathrooms   beds  \n",
       "0        100.0      101.0  100.0  \n",
       "1        100.0      101.0  101.0  \n",
       "2        102.0      101.0  102.0  \n",
       "3        101.0      101.0  101.0  \n",
       "4        101.0      101.0  101.0  \n",
       "...        ...        ...    ...  \n",
       "7995     100.0      101.0  101.0  \n",
       "7996     101.0      101.0  102.0  \n",
       "7997     101.0      101.0  101.0  \n",
       "7998       NaN      101.0  101.0  \n",
       "7999     101.0      101.0  103.0  \n",
       "\n",
       "[8000 rows x 7 columns]"
      ]
     },
     "execution_count": 32,
     "metadata": {},
     "output_type": "execute_result"
    }
   ],
   "source": [
    "# Une autre fonction\n",
    "\n",
    "def add_hundred(x):\n",
    "    return x+100\n",
    "\n",
    "airbnb[airbnb_cols].apply(add_hundred)\n",
    "# Cette fonction ajoute 100 à toutes les colonnes."
   ]
  },
  {
   "cell_type": "markdown",
   "metadata": {},
   "source": [
    "Utilisation ici de .apply() avec la fonction add_hundred"
   ]
  },
  {
   "cell_type": "code",
   "execution_count": 33,
   "metadata": {},
   "outputs": [
    {
     "data": {
      "text/html": [
       "<div>\n",
       "<style scoped>\n",
       "    .dataframe tbody tr th:only-of-type {\n",
       "        vertical-align: middle;\n",
       "    }\n",
       "\n",
       "    .dataframe tbody tr th {\n",
       "        vertical-align: top;\n",
       "    }\n",
       "\n",
       "    .dataframe thead th {\n",
       "        text-align: right;\n",
       "    }\n",
       "</style>\n",
       "<table border=\"1\" class=\"dataframe\">\n",
       "  <thead>\n",
       "    <tr style=\"text-align: right;\">\n",
       "      <th></th>\n",
       "      <th>host_acceptance_rate</th>\n",
       "      <th>host_listings_count</th>\n",
       "      <th>latitude</th>\n",
       "      <th>longitude</th>\n",
       "      <th>bedrooms</th>\n",
       "      <th>bathrooms</th>\n",
       "      <th>beds</th>\n",
       "    </tr>\n",
       "  </thead>\n",
       "  <tbody>\n",
       "    <tr>\n",
       "      <th>0</th>\n",
       "      <td>NaN</td>\n",
       "      <td>301.0</td>\n",
       "      <td>348.83349</td>\n",
       "      <td>302.31852</td>\n",
       "      <td>300.0</td>\n",
       "      <td>301.0</td>\n",
       "      <td>300.0</td>\n",
       "    </tr>\n",
       "    <tr>\n",
       "      <th>1</th>\n",
       "      <td>NaN</td>\n",
       "      <td>301.0</td>\n",
       "      <td>348.85100</td>\n",
       "      <td>302.35869</td>\n",
       "      <td>300.0</td>\n",
       "      <td>301.0</td>\n",
       "      <td>301.0</td>\n",
       "    </tr>\n",
       "    <tr>\n",
       "      <th>2</th>\n",
       "      <td>NaN</td>\n",
       "      <td>302.0</td>\n",
       "      <td>348.85758</td>\n",
       "      <td>302.35275</td>\n",
       "      <td>302.0</td>\n",
       "      <td>301.0</td>\n",
       "      <td>302.0</td>\n",
       "    </tr>\n",
       "    <tr>\n",
       "      <th>3</th>\n",
       "      <td>NaN</td>\n",
       "      <td>301.0</td>\n",
       "      <td>348.86528</td>\n",
       "      <td>302.39326</td>\n",
       "      <td>301.0</td>\n",
       "      <td>301.0</td>\n",
       "      <td>301.0</td>\n",
       "    </tr>\n",
       "    <tr>\n",
       "      <th>4</th>\n",
       "      <td>NaN</td>\n",
       "      <td>303.0</td>\n",
       "      <td>348.85899</td>\n",
       "      <td>302.34735</td>\n",
       "      <td>301.0</td>\n",
       "      <td>301.0</td>\n",
       "      <td>301.0</td>\n",
       "    </tr>\n",
       "    <tr>\n",
       "      <th>...</th>\n",
       "      <td>...</td>\n",
       "      <td>...</td>\n",
       "      <td>...</td>\n",
       "      <td>...</td>\n",
       "      <td>...</td>\n",
       "      <td>...</td>\n",
       "      <td>...</td>\n",
       "    </tr>\n",
       "    <tr>\n",
       "      <th>7995</th>\n",
       "      <td>NaN</td>\n",
       "      <td>302.0</td>\n",
       "      <td>348.87901</td>\n",
       "      <td>302.29526</td>\n",
       "      <td>300.0</td>\n",
       "      <td>301.0</td>\n",
       "      <td>301.0</td>\n",
       "    </tr>\n",
       "    <tr>\n",
       "      <th>7996</th>\n",
       "      <td>NaN</td>\n",
       "      <td>301.0</td>\n",
       "      <td>348.88903</td>\n",
       "      <td>302.35271</td>\n",
       "      <td>301.0</td>\n",
       "      <td>301.0</td>\n",
       "      <td>302.0</td>\n",
       "    </tr>\n",
       "    <tr>\n",
       "      <th>7997</th>\n",
       "      <td>NaN</td>\n",
       "      <td>301.0</td>\n",
       "      <td>348.85313</td>\n",
       "      <td>302.34146</td>\n",
       "      <td>301.0</td>\n",
       "      <td>301.0</td>\n",
       "      <td>301.0</td>\n",
       "    </tr>\n",
       "    <tr>\n",
       "      <th>7998</th>\n",
       "      <td>NaN</td>\n",
       "      <td>301.0</td>\n",
       "      <td>348.88066</td>\n",
       "      <td>302.33639</td>\n",
       "      <td>NaN</td>\n",
       "      <td>301.0</td>\n",
       "      <td>301.0</td>\n",
       "    </tr>\n",
       "    <tr>\n",
       "      <th>7999</th>\n",
       "      <td>NaN</td>\n",
       "      <td>302.0</td>\n",
       "      <td>348.85760</td>\n",
       "      <td>302.39946</td>\n",
       "      <td>301.0</td>\n",
       "      <td>301.0</td>\n",
       "      <td>303.0</td>\n",
       "    </tr>\n",
       "  </tbody>\n",
       "</table>\n",
       "<p>8000 rows × 7 columns</p>\n",
       "</div>"
      ],
      "text/plain": [
       "      host_acceptance_rate  host_listings_count   latitude  longitude  \\\n",
       "0                      NaN                301.0  348.83349  302.31852   \n",
       "1                      NaN                301.0  348.85100  302.35869   \n",
       "2                      NaN                302.0  348.85758  302.35275   \n",
       "3                      NaN                301.0  348.86528  302.39326   \n",
       "4                      NaN                303.0  348.85899  302.34735   \n",
       "...                    ...                  ...        ...        ...   \n",
       "7995                   NaN                302.0  348.87901  302.29526   \n",
       "7996                   NaN                301.0  348.88903  302.35271   \n",
       "7997                   NaN                301.0  348.85313  302.34146   \n",
       "7998                   NaN                301.0  348.88066  302.33639   \n",
       "7999                   NaN                302.0  348.85760  302.39946   \n",
       "\n",
       "      bedrooms  bathrooms   beds  \n",
       "0        300.0      301.0  300.0  \n",
       "1        300.0      301.0  301.0  \n",
       "2        302.0      301.0  302.0  \n",
       "3        301.0      301.0  301.0  \n",
       "4        301.0      301.0  301.0  \n",
       "...        ...        ...    ...  \n",
       "7995     300.0      301.0  301.0  \n",
       "7996     301.0      301.0  302.0  \n",
       "7997     301.0      301.0  301.0  \n",
       "7998       NaN      301.0  301.0  \n",
       "7999     301.0      301.0  303.0  \n",
       "\n",
       "[8000 rows x 7 columns]"
      ]
     },
     "execution_count": 33,
     "metadata": {},
     "output_type": "execute_result"
    }
   ],
   "source": [
    "# Seconde méthode mais avec une lambda (c'est cool les lambda ;-) )\n",
    "airbnb[airbnb_cols].apply(lambda x: x + 300)"
   ]
  },
  {
   "cell_type": "markdown",
   "metadata": {},
   "source": [
    "#### C'est la fin de notre petit rappel pour l'utilisation d'un DataFrame. La prochaine partie sera la présentation de notre projet et l'utilisation du Machine Learning."
   ]
  },
  {
   "cell_type": "code",
   "execution_count": null,
   "metadata": {},
   "outputs": [],
   "source": []
  }
 ],
 "metadata": {
  "kernelspec": {
   "display_name": "Python 3",
   "language": "python",
   "name": "python3"
  },
  "language_info": {
   "codemirror_mode": {
    "name": "ipython",
    "version": 3
   },
   "file_extension": ".py",
   "mimetype": "text/x-python",
   "name": "python",
   "nbconvert_exporter": "python",
   "pygments_lexer": "ipython3",
   "version": "3.7.6"
  }
 },
 "nbformat": 4,
 "nbformat_minor": 4
}
